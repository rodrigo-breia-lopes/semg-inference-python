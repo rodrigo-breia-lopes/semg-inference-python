{
 "cells": [
  {
   "cell_type": "markdown",
   "id": "e0638fda-b97b-4857-8d59-5ef5c7045728",
   "metadata": {},
   "source": [
    "# The Ninapro Dataset\n",
    "[Can be found here](https://ninapro.hevs.ch/)\n",
    "\n",
    "In this week we used the Ninapro dataset DB1.\n",
    "\n"
   ]
  },
  {
   "cell_type": "code",
   "execution_count": 1,
   "id": "f93f2e4c-25e7-4feb-8d53-90a8dcf0d01e",
   "metadata": {},
   "outputs": [],
   "source": [
    "import os\n",
    "\n",
    "root_dir = os.getcwd()\n",
    "rel_dir = 'datasets/ninapro/db1/s1/S1_A1_E1.mat'\n",
    "file_path = os.path.join(root_dir, rel_dir)"
   ]
  },
  {
   "cell_type": "code",
   "execution_count": 2,
   "id": "73ac3bc1-0db5-4a97-970f-e0d9a6d47448",
   "metadata": {},
   "outputs": [],
   "source": [
    "import numpy as np\n",
    "from scipy.io import loadmat as ld\n",
    "\n",
    "mat_data = ld(rel_dir, appendmat=False)"
   ]
  },
  {
   "cell_type": "markdown",
   "id": "dc79f7d0-4928-4553-957d-2884bd37ac6d",
   "metadata": {},
   "source": [
    "## Available fields in the ninapro dataset"
   ]
  },
  {
   "cell_type": "code",
   "execution_count": 3,
   "id": "d01b3f6d-2c88-4e18-aa6a-41a9021f1eae",
   "metadata": {},
   "outputs": [
    {
     "data": {
      "text/plain": [
       "['__header__',\n",
       " '__version__',\n",
       " '__globals__',\n",
       " 'emg',\n",
       " 'stimulus',\n",
       " 'glove',\n",
       " 'subject',\n",
       " 'exercise',\n",
       " 'repetition',\n",
       " 'restimulus',\n",
       " 'rerepetition']"
      ]
     },
     "execution_count": 3,
     "metadata": {},
     "output_type": "execute_result"
    }
   ],
   "source": [
    "keys = list(mat_data.keys())\n",
    "keys"
   ]
  },
  {
   "cell_type": "markdown",
   "id": "a955d030-7091-423f-9555-3c04a041c09b",
   "metadata": {},
   "source": [
    "## Loading all the subjects' data into a 'struct'.\n",
    "This struct 'data', will have the following structure:\n",
    "\n",
    "Data is an array of n subjects\n",
    "each subject containing 3 experiments\n",
    "each experiment containing a dictionary (key-value pair)\n",
    "we'll load the sEMG signals from all the channels, and the cyberglove data, for the hand joint angle regression task.\n",
    "\n",
    "We also computed the angle differences between samples, to model the correlation between joint angle variation and the incoming EMG signal. This variation per sample is given by the following equation:\n",
    "\n",
    "\\begin{align*}\n",
    "    \\delta_i\\left[n\\right] &= \\begin{cases}\n",
    "        0 &\\quad,\\text{if } n \\leq 1\\\\\n",
    "        g_i\\left[n+1\\right]-g_i\\left[n\\right]\n",
    "    \\end{cases}\n",
    "\\end{align*}\n",
    "\n",
    "\n",
    "Where $i$ is a cyberglove joint ($i \\in \\left[1,22\\right], i \\in \\mathbb{R}$), $\\delta\\left[n\\right]$ is the angle variation (in $\\degree$) at sample $n$, $g\\left[n\\right]$ is the cyberglove's uncalibrated angle at sample $n$.\n",
    "\n",
    "## Normalize data\n",
    "The emg signal was normalized from each channel's relative minimum and max, to $\\left[0,1\\right]$\n",
    "while the glove angles were normalized, from $\\left[0,360\\right]$ to $\\left[0,1\\right]$, using:\n",
    "\n",
    "\n",
    "$$x' = \\frac{x - \\text{min}~x}{\\text{max}~x - \\text{min}~x}$$\n",
    "\n",
    "And 'delta', was normalized from $\\left[-360,360\\right]$ to $\\left[-1,1\\right]$, using:\n",
    "\n",
    "$$x'' = 2 \\frac{x - \\text{min}~x}{\\text{max}~x - \\text{min}~x}$$\n",
    "\n",
    "(source: https://stats.stackexchange.com/questions/178626/how-to-normalize-data-between-1-and-1)"
   ]
  },
  {
   "cell_type": "code",
   "execution_count": 5,
   "id": "86d63ac0-6572-4a6f-b6b3-74405e3a2121",
   "metadata": {},
   "outputs": [],
   "source": [
    "import os\n",
    "from scipy.io import loadmat\n",
    "import numpy as np\n",
    "\n",
    "# Define the structure array to store the data\n",
    "num_subjects = 27\n",
    "data = []\n",
    "\n",
    "def normalizer(data_array,min_val,max_val,type):\n",
    "    \n",
    "    match type:\n",
    "        case \"uni\": \n",
    "            return (data_array - min_val) / (max_val - min_val)            \n",
    "        case \"bi\":\n",
    "            return 2 * ( (data_array - min_val) / (max_val - min_val ) ) - 1\n",
    "        case __:\n",
    "            raise Exception(f\"{type} type normalization not yet implemented.\")\n",
    "\n",
    "# Loop through each subject\n",
    "for subj_idx in range(1, num_subjects + 1):\n",
    "    # Set up the subject directory name and path\n",
    "    subject_dir = f\"s{subj_idx}\"\n",
    "    subject_path = os.path.join(\"datasets\", \"ninapro\", \"db1\", subject_dir)\n",
    "\n",
    "    # Initialize lists to hold the experimental data\n",
    "    exps = []\n",
    "\n",
    "    # Loop through each experiment for the current subject\n",
    "    for exp_idx in range(1, 4):\n",
    "        # Set up the experiment file name and path\n",
    "        exp_name = f\"S{subj_idx}_A1_E{exp_idx}.mat\"\n",
    "        exp_path = os.path.join(subject_path, exp_name)\n",
    "\n",
    "        # Load the MATLAB file\n",
    "        mat_file = loadmat(exp_path)\n",
    "\n",
    "        # Extract the relevant information from the loaded dictionary\n",
    "        emg = mat_file['emg']\n",
    "        \n",
    "        glove = mat_file['glove']\n",
    "        \n",
    "        # glove delta\n",
    "        delta = np.diff(glove, axis=0) # compute differences\n",
    "        delta = np.pad(delta, ((1, 0), (0, 0)), mode='constant') # first sample delta = 0\n",
    "\n",
    "        # normalize data\n",
    "        norm_emg = normalizer(emg, np.min(emg, axis = 0), np.max(emg, axis = 0) , \"uni\") # min-max channel, [0;1]\n",
    "        #norm_glove = normalizer(glove,0,360, \"uni\") # min-max channel, [0;1]\n",
    "        norm_delta = normalizer(delta,-360,360, \"bi\")\n",
    "        \n",
    "        # Add the extracted data to the list of experiments\n",
    "        exps.append({\n",
    "            'emg': norm_emg,\n",
    "            'glove_delta': glove\n",
    "        })\n",
    "\n",
    "    # Append the list of experiments to the data list\n",
    "    data.append(exps)\n",
    "\n",
    "# Convert the data list to NumPy arrays\n",
    "data = np.array(data)"
   ]
  },
  {
   "cell_type": "markdown",
   "id": "5ca55d6c-6e4f-4985-b649-30c2c2b516d8",
   "metadata": {},
   "source": [
    "We now have the EMG signals to use as input to the network, and the dependent variable for regression, the $\\delta\\left[n\\right]$."
   ]
  },
  {
   "cell_type": "code",
   "execution_count": null,
   "id": "c4442e8a-50f8-4fe8-8645-0aa6c3683d08",
   "metadata": {},
   "outputs": [],
   "source": []
  }
 ],
 "metadata": {
  "kernelspec": {
   "display_name": "Python (semg-inference)",
   "language": "python",
   "name": "env"
  },
  "language_info": {
   "codemirror_mode": {
    "name": "ipython",
    "version": 3
   },
   "file_extension": ".py",
   "mimetype": "text/x-python",
   "name": "python",
   "nbconvert_exporter": "python",
   "pygments_lexer": "ipython3",
   "version": "3.11.6"
  }
 },
 "nbformat": 4,
 "nbformat_minor": 5
}
